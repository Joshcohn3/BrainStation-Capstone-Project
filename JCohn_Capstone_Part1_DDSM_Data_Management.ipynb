{
 "cells": [
  {
   "cell_type": "markdown",
   "id": "e16bc97b-fde1-411e-a94b-c0b57b4a902c",
   "metadata": {},
   "source": [
    "# **Joshua Cohn Capstone Part 1 - mini-DDSM Data Management**\n",
    " **Mammography Cancer Classification**<br>\n",
    " **BrainStation Data Science Bootcamp**<br>\n",
    " **Joshua Cohn**<br>\n",
    " **Email: Joshcohn3@gmail.com**<br>\n",
    " **Due Date: December 12, 2022**\n",
    "--- "
   ]
  },
  {
   "cell_type": "markdown",
   "id": "432aad26-ab41-47e0-9d87-6e6c91833fd9",
   "metadata": {},
   "source": [
    "Breast Cancer is the second most leading cause of cancer related death in women with a case fatality rate of 2.5%.  The United States Preventive Services Task Force (USPSTF) recommends women who are between 50-74 years old to get a mammography screening for breast cancer every 2 years.  The mammography screening consists of a specialised X-ray imaging of the breast tissue and a radiologist will afterwards look for lumps or high density tissue in the images.\n",
    "\n",
    "If signs of cancer are observed in the mammogram images, the patient will be asked to follow up with an invasive biopsy of the breast tissue for a more accurate diagnosis.  The goal of this project is to use state of the art computer imaging models to analyse mammogram images and create a model that can aid radiologists in diagnosing cancer in images prior to biopsy.\n",
    "\n",
    "Two datasets, the mini-Digital Database of Screening Mammography (mini-DDSM) and Chinese Mammography Data (CMMD) were used in this project.  The mini-DDSM consists of 7,808 mammogram images from 1,952 patients and were stored in .png and .jpeg files.  The CMMD dataset consists of 5,202 mammogram images from 1,775 patients and were stored as dicom medical files.\n",
    "\n",
    "\n",
    "---"
   ]
  },
  {
   "cell_type": "code",
   "execution_count": 2,
   "id": "6b7558ab-80a8-4212-ae77-8d8201fe49a2",
   "metadata": {},
   "outputs": [],
   "source": [
    "import pandas as pd\n",
    "import numpy as np\n",
    "import seaborn as sns\n",
    "import matplotlib.pyplot as plt\n",
    "from scipy import stats\n",
    "from PIL import Image as im\n",
    "from IPython.display import Image\n",
    "import os\n",
    "from tensorflow.keras.utils import load_img\n",
    "%matplotlib inline"
   ]
  },
  {
   "cell_type": "markdown",
   "id": "635e6a62-9c4e-472a-93d3-bc351b653584",
   "metadata": {
    "tags": []
   },
   "source": [
    "---\n",
    "\n",
    "## **Importing Mini-DDSM Data**\n",
    "\n",
    "https://ardisdataset.github.io/MiniDDSM/"
   ]
  },
  {
   "cell_type": "code",
   "execution_count": 3,
   "id": "769bb0d5-7c9a-49e9-b11f-8f019738ac10",
   "metadata": {},
   "outputs": [
    {
     "data": {
      "text/html": [
       "<div>\n",
       "<style scoped>\n",
       "    .dataframe tbody tr th:only-of-type {\n",
       "        vertical-align: middle;\n",
       "    }\n",
       "\n",
       "    .dataframe tbody tr th {\n",
       "        vertical-align: top;\n",
       "    }\n",
       "\n",
       "    .dataframe thead th {\n",
       "        text-align: right;\n",
       "    }\n",
       "</style>\n",
       "<table border=\"1\" class=\"dataframe\">\n",
       "  <thead>\n",
       "    <tr style=\"text-align: right;\">\n",
       "      <th></th>\n",
       "      <th>fullPath</th>\n",
       "      <th>fileName</th>\n",
       "      <th>View</th>\n",
       "      <th>Side</th>\n",
       "      <th>Status</th>\n",
       "      <th>Age</th>\n",
       "      <th>Density</th>\n",
       "      <th>Tumour_Contour</th>\n",
       "      <th>Tumour_Contour2</th>\n",
       "      <th>Tumour_Contour3</th>\n",
       "      <th>Tumour_Contour4</th>\n",
       "      <th>Tumour_Contour5</th>\n",
       "      <th>Tumour_Contour6</th>\n",
       "    </tr>\n",
       "  </thead>\n",
       "  <tbody>\n",
       "    <tr>\n",
       "      <th>0</th>\n",
       "      <td>Benign\\0029\\C_0029_1.LEFT_CC.png</td>\n",
       "      <td>C_0029_1.LEFT_CC.png</td>\n",
       "      <td>CC</td>\n",
       "      <td>LEFT</td>\n",
       "      <td>Benign</td>\n",
       "      <td>66.0</td>\n",
       "      <td>3</td>\n",
       "      <td>Benign\\0029\\C_0029_1.LEFT_CC_Mask.png</td>\n",
       "      <td>-</td>\n",
       "      <td>NaN</td>\n",
       "      <td>NaN</td>\n",
       "      <td>NaN</td>\n",
       "      <td>NaN</td>\n",
       "    </tr>\n",
       "    <tr>\n",
       "      <th>1</th>\n",
       "      <td>Benign\\0029\\C_0029_1.LEFT_MLO.png</td>\n",
       "      <td>C_0029_1.LEFT_MLO.png</td>\n",
       "      <td>MLO</td>\n",
       "      <td>LEFT</td>\n",
       "      <td>Benign</td>\n",
       "      <td>66.0</td>\n",
       "      <td>3</td>\n",
       "      <td>Benign\\0029\\C_0029_1.LEFT_MLO_Mask.png</td>\n",
       "      <td>-</td>\n",
       "      <td>NaN</td>\n",
       "      <td>NaN</td>\n",
       "      <td>NaN</td>\n",
       "      <td>NaN</td>\n",
       "    </tr>\n",
       "    <tr>\n",
       "      <th>2</th>\n",
       "      <td>Benign\\0029\\C_0029_1.RIGHT_CC.png</td>\n",
       "      <td>C_0029_1.RIGHT_CC.png</td>\n",
       "      <td>CC</td>\n",
       "      <td>RIGHT</td>\n",
       "      <td>Benign</td>\n",
       "      <td>66.0</td>\n",
       "      <td>3</td>\n",
       "      <td>-</td>\n",
       "      <td>-</td>\n",
       "      <td>NaN</td>\n",
       "      <td>NaN</td>\n",
       "      <td>NaN</td>\n",
       "      <td>NaN</td>\n",
       "    </tr>\n",
       "    <tr>\n",
       "      <th>3</th>\n",
       "      <td>Benign\\0029\\C_0029_1.RIGHT_MLO.png</td>\n",
       "      <td>C_0029_1.RIGHT_MLO.png</td>\n",
       "      <td>MLO</td>\n",
       "      <td>RIGHT</td>\n",
       "      <td>Benign</td>\n",
       "      <td>66.0</td>\n",
       "      <td>3</td>\n",
       "      <td>-</td>\n",
       "      <td>-</td>\n",
       "      <td>NaN</td>\n",
       "      <td>NaN</td>\n",
       "      <td>NaN</td>\n",
       "      <td>NaN</td>\n",
       "    </tr>\n",
       "    <tr>\n",
       "      <th>4</th>\n",
       "      <td>Benign\\0033\\C_0033_1.LEFT_CC.png</td>\n",
       "      <td>C_0033_1.LEFT_CC.png</td>\n",
       "      <td>CC</td>\n",
       "      <td>LEFT</td>\n",
       "      <td>Benign</td>\n",
       "      <td>60.0</td>\n",
       "      <td>3</td>\n",
       "      <td>-</td>\n",
       "      <td>-</td>\n",
       "      <td>NaN</td>\n",
       "      <td>NaN</td>\n",
       "      <td>NaN</td>\n",
       "      <td>NaN</td>\n",
       "    </tr>\n",
       "  </tbody>\n",
       "</table>\n",
       "</div>"
      ],
      "text/plain": [
       "                             fullPath                fileName View   Side  \\\n",
       "0    Benign\\0029\\C_0029_1.LEFT_CC.png    C_0029_1.LEFT_CC.png   CC   LEFT   \n",
       "1   Benign\\0029\\C_0029_1.LEFT_MLO.png   C_0029_1.LEFT_MLO.png  MLO   LEFT   \n",
       "2   Benign\\0029\\C_0029_1.RIGHT_CC.png   C_0029_1.RIGHT_CC.png   CC  RIGHT   \n",
       "3  Benign\\0029\\C_0029_1.RIGHT_MLO.png  C_0029_1.RIGHT_MLO.png  MLO  RIGHT   \n",
       "4    Benign\\0033\\C_0033_1.LEFT_CC.png    C_0033_1.LEFT_CC.png   CC   LEFT   \n",
       "\n",
       "   Status   Age  Density                          Tumour_Contour  \\\n",
       "0  Benign  66.0        3   Benign\\0029\\C_0029_1.LEFT_CC_Mask.png   \n",
       "1  Benign  66.0        3  Benign\\0029\\C_0029_1.LEFT_MLO_Mask.png   \n",
       "2  Benign  66.0        3                                       -   \n",
       "3  Benign  66.0        3                                       -   \n",
       "4  Benign  60.0        3                                       -   \n",
       "\n",
       "  Tumour_Contour2 Tumour_Contour3 Tumour_Contour4 Tumour_Contour5  \\\n",
       "0               -             NaN             NaN             NaN   \n",
       "1               -             NaN             NaN             NaN   \n",
       "2               -             NaN             NaN             NaN   \n",
       "3               -             NaN             NaN             NaN   \n",
       "4               -             NaN             NaN             NaN   \n",
       "\n",
       "  Tumour_Contour6  \n",
       "0             NaN  \n",
       "1             NaN  \n",
       "2             NaN  \n",
       "3             NaN  \n",
       "4             NaN  "
      ]
     },
     "execution_count": 3,
     "metadata": {},
     "output_type": "execute_result"
    }
   ],
   "source": [
    "mini_ddsm_df=pd.read_csv(r'C:\\Users\\joshc\\Documents\\BrainStation\\Capstone Project\\Mammography Data\\The Complete Mini-DDSM\\Data-MoreThanTwoMasks\\Data-MoreThanTwoMasks.csv')\n",
    "mini_ddsm_df.head()"
   ]
  },
  {
   "cell_type": "code",
   "execution_count": 4,
   "id": "613a41eb-75cd-4719-bbd0-065dab3c2034",
   "metadata": {},
   "outputs": [
    {
     "name": "stdout",
     "output_type": "stream",
     "text": [
      "<class 'pandas.core.frame.DataFrame'>\n",
      "RangeIndex: 7808 entries, 0 to 7807\n",
      "Data columns (total 13 columns):\n",
      " #   Column           Non-Null Count  Dtype  \n",
      "---  ------           --------------  -----  \n",
      " 0   fullPath         7808 non-null   object \n",
      " 1   fileName         7808 non-null   object \n",
      " 2   View             7808 non-null   object \n",
      " 3   Side             7808 non-null   object \n",
      " 4   Status           7808 non-null   object \n",
      " 5   Age              7796 non-null   float64\n",
      " 6   Density          7808 non-null   int64  \n",
      " 7   Tumour_Contour   7808 non-null   object \n",
      " 8   Tumour_Contour2  7808 non-null   object \n",
      " 9   Tumour_Contour3  50 non-null     object \n",
      " 10  Tumour_Contour4  8 non-null      object \n",
      " 11  Tumour_Contour5  2 non-null      object \n",
      " 12  Tumour_Contour6  2 non-null      object \n",
      "dtypes: float64(1), int64(1), object(11)\n",
      "memory usage: 793.1+ KB\n"
     ]
    }
   ],
   "source": [
    "mini_ddsm_df.info()"
   ]
  },
  {
   "cell_type": "markdown",
   "id": "dac0be6f-8063-443f-8d58-4366e79627d6",
   "metadata": {},
   "source": [
    "**Filling 12 Missing Age Values with Median**"
   ]
  },
  {
   "cell_type": "code",
   "execution_count": 5,
   "id": "7c1f1bbd-b490-4869-a8b9-9119ed17fa28",
   "metadata": {},
   "outputs": [
    {
     "data": {
      "text/plain": [
       "fullPath              0\n",
       "fileName              0\n",
       "View                  0\n",
       "Side                  0\n",
       "Status                0\n",
       "Age                   0\n",
       "Density               0\n",
       "Tumour_Contour        0\n",
       "Tumour_Contour2       0\n",
       "Tumour_Contour3    7758\n",
       "Tumour_Contour4    7800\n",
       "Tumour_Contour5    7806\n",
       "Tumour_Contour6    7806\n",
       "dtype: int64"
      ]
     },
     "execution_count": 5,
     "metadata": {},
     "output_type": "execute_result"
    }
   ],
   "source": [
    "mini_ddsm_df.Age.fillna(mini_ddsm_df.Age.median(),inplace=True)\n",
    "mini_ddsm_df.isnull().sum()"
   ]
  },
  {
   "cell_type": "markdown",
   "id": "ffa8fc63-d9b4-4228-a9fd-adb8cc31a0b6",
   "metadata": {},
   "source": [
    "### **Paths to Images**"
   ]
  },
  {
   "cell_type": "code",
   "execution_count": 5,
   "id": "5296814c-a987-48cd-89d8-251e28f86895",
   "metadata": {
    "tags": []
   },
   "outputs": [
    {
     "name": "stdout",
     "output_type": "stream",
     "text": [
      "Mammography Image Summary: Benign 2684, Cancer 2716, Normal 2408, Total 7808\n"
     ]
    }
   ],
   "source": [
    "#Accessing Image Paths\n",
    "os_walk=os.walk(r'C:\\Users\\joshc\\Documents\\BrainStation\\Capstone Project\\Mammography Data\\The Complete Mini-DDSM\\MINI-DDSM-Complete-PNG-16')\n",
    "\n",
    "#lists to store paths of images\n",
    "benign_paths=[]\n",
    "malignant_paths=[]\n",
    "normal_paths=[]\n",
    "\n",
    "# list of file names & directory\n",
    "benign_file_names=[]\n",
    "malignant_file_names=[]\n",
    "normal_file_names=[]\n",
    "\n",
    "for dirname, _, filenames in os_walk:\n",
    "    for filename in filenames:\n",
    "        path=os.path.join(dirname, filename)\n",
    "        if (dirname.__contains__(\"Benign\")==True) & (filename.__contains__(\"Mask\")==False)& (filename.__contains__(\"MASK2\")==False) & (filename.__contains__(\".png\")==True):\n",
    "            benign_paths.append(path)\n",
    "            benign_file_names.append(filename)\n",
    "        elif (dirname.__contains__(\"Cancer\")==True) & (filename.__contains__(\"Mask\")==False)& (filename.__contains__(\"MASK2\")==False) & (filename.__contains__(\".png\")==True):\n",
    "            malignant_paths.append(path)\n",
    "            malignant_file_names.append(filename)\n",
    "        elif (dirname.__contains__(\"Normal\")==True) & (filename.__contains__(\"Mask\")==False)& (filename.__contains__(\"MASK2\")==False) & (filename.__contains__(\".png\")==True):\n",
    "            normal_paths.append(path)\n",
    "            normal_file_names.append(filename)\n",
    "            \n",
    "print(\"Mammography Image Summary: Benign %s, Cancer %s, Normal %s, Total %s\" % (len(benign_paths),len(malignant_paths),len(normal_paths),len(benign_paths)+len(malignant_paths)+len(normal_paths)))"
   ]
  },
  {
   "cell_type": "code",
   "execution_count": null,
   "id": "5273ac35-3f4c-4cb8-8fb5-32d27f7c9f6e",
   "metadata": {},
   "outputs": [],
   "source": []
  },
  {
   "cell_type": "markdown",
   "id": "a4b0faf7-2bf0-43be-8e9c-344c7378f71a",
   "metadata": {},
   "source": [
    "---\n",
    "\n",
    "### **Creating X & y**"
   ]
  },
  {
   "cell_type": "code",
   "execution_count": 10,
   "id": "25943d96-e175-4c18-aa7c-2db4da9977d2",
   "metadata": {},
   "outputs": [],
   "source": [
    "# turning file paths to images into a dataframe\n",
    "path_df = pd.DataFrame({'Image_Path':benign_paths+malignant_paths+normal_paths,'File_Names':benign_file_names+malignant_file_names+normal_file_names})\n",
    "\n",
    "# defining X & y\n",
    "X = pd.concat([path_df,mini_ddsm_df[['View','Side','Status','Age','Density']]],axis=1)\n",
    "\n",
    "# Declaring Status == 'Cancer' as target variable and dropping it from the X dataframe\n",
    "y = pd.Series(np.where(X['Status']=='Cancer',1,0),name='Malignancy')\n",
    "X.drop('Status',axis=1,inplace=True)"
   ]
  },
  {
   "cell_type": "markdown",
   "id": "0a8eb5d8-8392-4709-a8de-d2ebb49606f8",
   "metadata": {},
   "source": [
    "**Feature DataFrame**"
   ]
  },
  {
   "cell_type": "code",
   "execution_count": 11,
   "id": "2a9e623d-fc79-490b-8c0e-408b4d7e92c4",
   "metadata": {},
   "outputs": [
    {
     "data": {
      "text/html": [
       "<div>\n",
       "<style scoped>\n",
       "    .dataframe tbody tr th:only-of-type {\n",
       "        vertical-align: middle;\n",
       "    }\n",
       "\n",
       "    .dataframe tbody tr th {\n",
       "        vertical-align: top;\n",
       "    }\n",
       "\n",
       "    .dataframe thead th {\n",
       "        text-align: right;\n",
       "    }\n",
       "</style>\n",
       "<table border=\"1\" class=\"dataframe\">\n",
       "  <thead>\n",
       "    <tr style=\"text-align: right;\">\n",
       "      <th></th>\n",
       "      <th>Image_Path</th>\n",
       "      <th>File_Names</th>\n",
       "      <th>View</th>\n",
       "      <th>Side</th>\n",
       "      <th>Age</th>\n",
       "      <th>Density</th>\n",
       "    </tr>\n",
       "  </thead>\n",
       "  <tbody>\n",
       "    <tr>\n",
       "      <th>0</th>\n",
       "      <td>C:\\Users\\joshc\\Documents\\BrainStation\\Capstone...</td>\n",
       "      <td>C_0029_1.LEFT_CC.png</td>\n",
       "      <td>CC</td>\n",
       "      <td>LEFT</td>\n",
       "      <td>66.0</td>\n",
       "      <td>3</td>\n",
       "    </tr>\n",
       "    <tr>\n",
       "      <th>1</th>\n",
       "      <td>C:\\Users\\joshc\\Documents\\BrainStation\\Capstone...</td>\n",
       "      <td>C_0029_1.LEFT_MLO.png</td>\n",
       "      <td>MLO</td>\n",
       "      <td>LEFT</td>\n",
       "      <td>66.0</td>\n",
       "      <td>3</td>\n",
       "    </tr>\n",
       "    <tr>\n",
       "      <th>2</th>\n",
       "      <td>C:\\Users\\joshc\\Documents\\BrainStation\\Capstone...</td>\n",
       "      <td>C_0029_1.RIGHT_CC.png</td>\n",
       "      <td>CC</td>\n",
       "      <td>RIGHT</td>\n",
       "      <td>66.0</td>\n",
       "      <td>3</td>\n",
       "    </tr>\n",
       "    <tr>\n",
       "      <th>3</th>\n",
       "      <td>C:\\Users\\joshc\\Documents\\BrainStation\\Capstone...</td>\n",
       "      <td>C_0029_1.RIGHT_MLO.png</td>\n",
       "      <td>MLO</td>\n",
       "      <td>RIGHT</td>\n",
       "      <td>66.0</td>\n",
       "      <td>3</td>\n",
       "    </tr>\n",
       "    <tr>\n",
       "      <th>4</th>\n",
       "      <td>C:\\Users\\joshc\\Documents\\BrainStation\\Capstone...</td>\n",
       "      <td>C_0033_1.LEFT_CC.png</td>\n",
       "      <td>CC</td>\n",
       "      <td>LEFT</td>\n",
       "      <td>60.0</td>\n",
       "      <td>3</td>\n",
       "    </tr>\n",
       "  </tbody>\n",
       "</table>\n",
       "</div>"
      ],
      "text/plain": [
       "                                          Image_Path              File_Names  \\\n",
       "0  C:\\Users\\joshc\\Documents\\BrainStation\\Capstone...    C_0029_1.LEFT_CC.png   \n",
       "1  C:\\Users\\joshc\\Documents\\BrainStation\\Capstone...   C_0029_1.LEFT_MLO.png   \n",
       "2  C:\\Users\\joshc\\Documents\\BrainStation\\Capstone...   C_0029_1.RIGHT_CC.png   \n",
       "3  C:\\Users\\joshc\\Documents\\BrainStation\\Capstone...  C_0029_1.RIGHT_MLO.png   \n",
       "4  C:\\Users\\joshc\\Documents\\BrainStation\\Capstone...    C_0033_1.LEFT_CC.png   \n",
       "\n",
       "  View   Side   Age  Density  \n",
       "0   CC   LEFT  66.0        3  \n",
       "1  MLO   LEFT  66.0        3  \n",
       "2   CC  RIGHT  66.0        3  \n",
       "3  MLO  RIGHT  66.0        3  \n",
       "4   CC   LEFT  60.0        3  "
      ]
     },
     "execution_count": 11,
     "metadata": {},
     "output_type": "execute_result"
    }
   ],
   "source": [
    "X.head()"
   ]
  },
  {
   "cell_type": "code",
   "execution_count": 12,
   "id": "79b902a6-7e66-42d7-839a-5f9dd2a37aca",
   "metadata": {},
   "outputs": [
    {
     "name": "stdout",
     "output_type": "stream",
     "text": [
      "Shape of X Data is 7808 rows and 6 columns\n"
     ]
    }
   ],
   "source": [
    "print(\"Shape of X Data is %s rows and %s columns\" % (X.shape[0],X.shape[1]))"
   ]
  },
  {
   "cell_type": "markdown",
   "id": "a2d12feb-dc54-45bd-8b42-3aa70f7e3ff5",
   "metadata": {},
   "source": [
    "**Target Variable**"
   ]
  },
  {
   "cell_type": "code",
   "execution_count": 14,
   "id": "5a94fa79-cd55-4332-91ea-751d0917e4b2",
   "metadata": {},
   "outputs": [
    {
     "name": "stdout",
     "output_type": "stream",
     "text": [
      "Target Variable Data y\n"
     ]
    },
    {
     "data": {
      "text/plain": [
       "0       0\n",
       "1       0\n",
       "2       0\n",
       "3       0\n",
       "4       0\n",
       "       ..\n",
       "7803    0\n",
       "7804    0\n",
       "7805    0\n",
       "7806    0\n",
       "7807    0\n",
       "Name: Malignancy, Length: 7808, dtype: int32"
      ]
     },
     "execution_count": 14,
     "metadata": {},
     "output_type": "execute_result"
    }
   ],
   "source": [
    "# y is classification of whether or not the image is from a patient with cancer positive\n",
    "# 1 = Cancer, 0 = Benign or Normal\n",
    "print(\"Target Variable Data y\")\n",
    "y"
   ]
  },
  {
   "cell_type": "markdown",
   "id": "e2c21e2c-1452-41cf-93ba-10f157daa269",
   "metadata": {},
   "source": [
    "---\n",
    "\n",
    "## **Image EDA**"
   ]
  },
  {
   "cell_type": "code",
   "execution_count": 10,
   "id": "b2e4eee2-4227-4a9d-9005-6594d996ce9a",
   "metadata": {},
   "outputs": [
    {
     "data": {
      "image/png": "[encoded data removed]",
      "text/plain": [
       "<Figure size 720x432 with 1 Axes>"
      ]
     },
     "metadata": {
      "needs_background": "light"
     },
     "output_type": "display_data"
    }
   ],
   "source": [
    "plt.figure(figsize=(10,6))\n",
    "sns.histplot(mini_ddsm_df.Age,bins=int((mini_ddsm_df.Age.max()-mini_ddsm_df.Age.min())/2))\n",
    "plt.title(\"Age of Mammography Patients\")\n",
    "plt.show()\n"
   ]
  },
  {
   "cell_type": "code",
   "execution_count": 29,
   "id": "529cbb6a-5de6-44b3-8867-4c54a06feb4c",
   "metadata": {},
   "outputs": [],
   "source": [
    "import math\n",
    "\n",
    "binned_age_df=mini_ddsm_df.Age\n",
    "binned_age_df=[math.floor(x/5)*5+2.5 for x in binned_age_df.values.tolist()]\n",
    "binned_age_df=pd.DataFrame({\"Age\":binned_age_df,'Diagnosis':})"
   ]
  },
  {
   "cell_type": "code",
   "execution_count": 109,
   "id": "2ef85142-c65c-4429-996f-b6d0aef10620",
   "metadata": {},
   "outputs": [
    {
     "data": {
      "image/png": "[encoded data removed]",
      "text/plain": [
       "<Figure size 720x432 with 1 Axes>"
      ]
     },
     "metadata": {
      "needs_background": "light"
     },
     "output_type": "display_data"
    }
   ],
   "source": [
    "plt.figure(figsize=(10,6))\n",
    "sns.histplot(mini_ddsm_labels.Density,bins=5)\n",
    "plt.title(\"Density of Mammography Patients\")\n",
    "plt.show()"
   ]
  },
  {
   "cell_type": "markdown",
   "id": "62c93c62-d124-43f9-920c-8f0e9fb21013",
   "metadata": {
    "tags": []
   },
   "source": [
    "---\n",
    "\n",
    "### **Importing Images**"
   ]
  },
  {
   "cell_type": "code",
   "execution_count": 9,
   "id": "43ae6745-d536-404c-a772-e2a5a6fa952f",
   "metadata": {},
   "outputs": [],
   "source": [
    "#For loop to gather the pixel information of the mammography images\n",
    "image_dimension_list=[]\n",
    "for path in benign_paths+malignant_paths+normal_paths: # iterates through file paths for all images\n",
    "    img=np.asarray(load_img(path))[:,:,0]\n",
    "    image_dimension_list.append((img.shape[0],img.shape[1]))\n"
   ]
  },
  {
   "cell_type": "code",
   "execution_count": 10,
   "id": "2e1a690b-5d5e-4ed0-bf81-52b8d8f6a9dc",
   "metadata": {},
   "outputs": [
    {
     "data": {
      "text/plain": [
       "7808"
      ]
     },
     "execution_count": 10,
     "metadata": {},
     "output_type": "execute_result"
    }
   ],
   "source": [
    "len(image_dimension_list)"
   ]
  },
  {
   "cell_type": "code",
   "execution_count": 15,
   "id": "240a8a6b-b17e-4568-a2cb-6755bd77e697",
   "metadata": {},
   "outputs": [],
   "source": [
    "image_width_pixels=[]\n",
    "image_length_pixels=[]\n",
    "\n",
    "for image_shape in image_dimension_list:\n",
    "    image_width_pixels.append(image_shape[0])\n",
    "    image_length_pixels.append(image_shape[1])"
   ]
  },
  {
   "cell_type": "markdown",
   "id": "18de1489-e3c6-45dd-9e25-cde9104719e4",
   "metadata": {},
   "source": [
    "**Image Width in Pixels**"
   ]
  },
  {
   "cell_type": "code",
   "execution_count": 16,
   "id": "9ee782d2-46f3-4ccb-b45d-ed033bcc24bd",
   "metadata": {
    "tags": []
   },
   "outputs": [
    {
     "data": {
      "text/html": [
       "<div>\n",
       "<style scoped>\n",
       "    .dataframe tbody tr th:only-of-type {\n",
       "        vertical-align: middle;\n",
       "    }\n",
       "\n",
       "    .dataframe tbody tr th {\n",
       "        vertical-align: top;\n",
       "    }\n",
       "\n",
       "    .dataframe thead th {\n",
       "        text-align: right;\n",
       "    }\n",
       "</style>\n",
       "<table border=\"1\" class=\"dataframe\">\n",
       "  <thead>\n",
       "    <tr style=\"text-align: right;\">\n",
       "      <th></th>\n",
       "      <th>image_width_pixels</th>\n",
       "    </tr>\n",
       "  </thead>\n",
       "  <tbody>\n",
       "    <tr>\n",
       "      <th>count</th>\n",
       "      <td>7808.000000</td>\n",
       "    </tr>\n",
       "    <tr>\n",
       "      <th>mean</th>\n",
       "      <td>2676.350666</td>\n",
       "    </tr>\n",
       "    <tr>\n",
       "      <th>std</th>\n",
       "      <td>332.264894</td>\n",
       "    </tr>\n",
       "    <tr>\n",
       "      <th>min</th>\n",
       "      <td>1088.000000</td>\n",
       "    </tr>\n",
       "    <tr>\n",
       "      <th>25%</th>\n",
       "      <td>2368.000000</td>\n",
       "    </tr>\n",
       "    <tr>\n",
       "      <th>50%</th>\n",
       "      <td>2671.000000</td>\n",
       "    </tr>\n",
       "    <tr>\n",
       "      <th>75%</th>\n",
       "      <td>2876.000000</td>\n",
       "    </tr>\n",
       "    <tr>\n",
       "      <th>max</th>\n",
       "      <td>3481.000000</td>\n",
       "    </tr>\n",
       "  </tbody>\n",
       "</table>\n",
       "</div>"
      ],
      "text/plain": [
       "       image_width_pixels\n",
       "count         7808.000000\n",
       "mean          2676.350666\n",
       "std            332.264894\n",
       "min           1088.000000\n",
       "25%           2368.000000\n",
       "50%           2671.000000\n",
       "75%           2876.000000\n",
       "max           3481.000000"
      ]
     },
     "execution_count": 16,
     "metadata": {},
     "output_type": "execute_result"
    }
   ],
   "source": [
    "pd.DataFrame({'image_width_pixels':image_width_pixels}).describe()"
   ]
  },
  {
   "cell_type": "markdown",
   "id": "78575468-6206-4a76-a601-eaf8b8639b77",
   "metadata": {},
   "source": [
    "### Image Size"
   ]
  },
  {
   "cell_type": "code",
   "execution_count": 37,
   "id": "56231c43-0d52-4133-9c50-b0c77b976d39",
   "metadata": {},
   "outputs": [
    {
     "data": {
      "image/png": "[encoded data removed]",
      "text/plain": [
       "<Figure size 576x432 with 1 Axes>"
      ]
     },
     "metadata": {
      "needs_background": "light"
     },
     "output_type": "display_data"
    }
   ],
   "source": [
    "import matplotlib.lines as mlines\n",
    "plt.rcParams['figure.figsize'] = (8.0, 6.0) #setting figure size\n",
    "sns.histplot(image_width_pixels)\n",
    "plt.xlim([min(image_width_pixels),max(image_width_pixels)])\n",
    "plt.xlabel('Image Width Pixels')\n",
    "\n",
    "red_dot=mlines.Line2D([],[],color='red',marker='o',linestyle='None',markersize=10,label='mean')\n",
    "black_dot=mlines.Line2D([],[],color='black',marker='o',linestyle='None',markersize=10,label='median')\n",
    "plt.legend(handles=[red_dot,black_dot])\n",
    "\n",
    "plt.axvline(pd.DataFrame({'image_width_pixels':image_width_pixels}).median().values.tolist()[0],color='black')\n",
    "plt.axvline(pd.DataFrame({'image_width_pixels':image_width_pixels}).mean().values.tolist()[0],color='red')\n",
    "plt.title('Image Width Histogram (Pixels)')\n",
    "plt.savefig('Mammography_Image_Width_Histogram.png')\n",
    "plt.show()"
   ]
  },
  {
   "cell_type": "code",
   "execution_count": 21,
   "id": "68955996-8616-4949-bd49-204305c8636a",
   "metadata": {},
   "outputs": [
    {
     "data": {
      "text/html": [
       "<div>\n",
       "<style scoped>\n",
       "    .dataframe tbody tr th:only-of-type {\n",
       "        vertical-align: middle;\n",
       "    }\n",
       "\n",
       "    .dataframe tbody tr th {\n",
       "        vertical-align: top;\n",
       "    }\n",
       "\n",
       "    .dataframe thead th {\n",
       "        text-align: right;\n",
       "    }\n",
       "</style>\n",
       "<table border=\"1\" class=\"dataframe\">\n",
       "  <thead>\n",
       "    <tr style=\"text-align: right;\">\n",
       "      <th></th>\n",
       "      <th>image_length_pixels</th>\n",
       "    </tr>\n",
       "  </thead>\n",
       "  <tbody>\n",
       "    <tr>\n",
       "      <th>count</th>\n",
       "      <td>7808.000000</td>\n",
       "    </tr>\n",
       "    <tr>\n",
       "      <th>mean</th>\n",
       "      <td>1536.334273</td>\n",
       "    </tr>\n",
       "    <tr>\n",
       "      <th>std</th>\n",
       "      <td>312.499608</td>\n",
       "    </tr>\n",
       "    <tr>\n",
       "      <th>min</th>\n",
       "      <td>495.000000</td>\n",
       "    </tr>\n",
       "    <tr>\n",
       "      <th>25%</th>\n",
       "      <td>1321.000000</td>\n",
       "    </tr>\n",
       "    <tr>\n",
       "      <th>50%</th>\n",
       "      <td>1477.000000</td>\n",
       "    </tr>\n",
       "    <tr>\n",
       "      <th>75%</th>\n",
       "      <td>1736.000000</td>\n",
       "    </tr>\n",
       "    <tr>\n",
       "      <th>max</th>\n",
       "      <td>2746.000000</td>\n",
       "    </tr>\n",
       "  </tbody>\n",
       "</table>\n",
       "</div>"
      ],
      "text/plain": [
       "       image_length_pixels\n",
       "count          7808.000000\n",
       "mean           1536.334273\n",
       "std             312.499608\n",
       "min             495.000000\n",
       "25%            1321.000000\n",
       "50%            1477.000000\n",
       "75%            1736.000000\n",
       "max            2746.000000"
      ]
     },
     "execution_count": 21,
     "metadata": {},
     "output_type": "execute_result"
    }
   ],
   "source": [
    "pd.DataFrame({'image_length_pixels':image_length_pixels}).describe()"
   ]
  },
  {
   "cell_type": "code",
   "execution_count": 40,
   "id": "badfc619-1ee8-4251-9929-e64e91d61a46",
   "metadata": {},
   "outputs": [
    {
     "data": {
      "image/png": "[encoded data removed]",
      "text/plain": [
       "<Figure size 576x432 with 1 Axes>"
      ]
     },
     "metadata": {
      "needs_background": "light"
     },
     "output_type": "display_data"
    }
   ],
   "source": [
    "sns.histplot(image_length_pixels)\n",
    "plt.xlim([min(image_length_pixels),max(image_length_pixels)])\n",
    "plt.title('Image Length Histogram (Pixels)')\n",
    "plt.xlabel('Image Length Pixels')\n",
    "plt.axvline(pd.DataFrame({'image_length_pixels':image_length_pixels}).median().values.tolist()[0],color='black')\n",
    "plt.axvline(pd.DataFrame({'image_length_pixels':image_length_pixels}).mean().values.tolist()[0],color='red')\n",
    "\n",
    "red_dot=mlines.Line2D([],[],color='red',marker='o',linestyle='None',markersize=10,label='mean')\n",
    "black_dot=mlines.Line2D([],[],color='black',marker='o',linestyle='None',markersize=10,label='median')\n",
    "plt.legend(handles=[red_dot,black_dot])\n",
    "\n",
    "\n",
    "plt.savefig('Mammography_Image_Length_Histogram.png')\n",
    "plt.show()"
   ]
  },
  {
   "cell_type": "markdown",
   "id": "c4109388-94cb-470c-b350-3798efe6e7fd",
   "metadata": {},
   "source": [
    "The Black & Red lines on the pixel length histograms represents the median & mean respectively of the dimension in pixel size.  Since the mean & median for both length and width were similar, using the median seemed to be the most convenient measurement as the size for the normalization of all images moving forward.\n",
    "\n",
    "For image convolutional networks to operate all images must be normalized to the same size.  Any images below or above the median will be scaled up or down accordingly using bilinear interpolation in Keras.\n",
    "\n",
    "Median Image Width (Pixels): `2671`\n",
    "\n",
    "Median Image Length (Pixels): `1477`\n",
    "\n",
    "---"
   ]
  },
  {
   "cell_type": "markdown",
   "id": "9cdd90f7-a3cd-434e-bff0-f22c2eb0cfce",
   "metadata": {
    "tags": []
   },
   "source": [
    "---\n",
    "\n",
    "## **Moving Images to Directories**"
   ]
  },
  {
   "cell_type": "code",
   "execution_count": 17,
   "id": "abc8edf2-d744-45e7-a967-fcba433eabf2",
   "metadata": {},
   "outputs": [],
   "source": [
    "from sklearn.model_selection import train_test_split\n",
    "\n",
    "random_state=1 # DO NOT CHANGE THIS\n",
    "\n",
    "# Train_test split where test_size=20%\n",
    "X_train, X_test,y_train,y_test=train_test_split(X,y,test_size=.20,random_state=random_state,stratify=y)\n",
    "\n",
    "# Train_Validation split where test_size=25%\n",
    "X_train, X_validation,y_train,y_validation=train_test_split(X_train,y_train,test_size=.25,random_state=random_state,stratify=y_train)"
   ]
  },
  {
   "cell_type": "code",
   "execution_count": 18,
   "id": "3b90d29d-b584-4e34-af29-dbd682b7e007",
   "metadata": {},
   "outputs": [
    {
     "data": {
      "text/plain": [
       "['Image_Path', 'File_Names', 'View', 'Side', 'Age', 'Density']"
      ]
     },
     "execution_count": 18,
     "metadata": {},
     "output_type": "execute_result"
    }
   ],
   "source": [
    "X_test.columns.tolist()"
   ]
  },
  {
   "cell_type": "code",
   "execution_count": null,
   "id": "7988d3a1-ec3c-47ce-9a4b-df4fc4686e29",
   "metadata": {},
   "outputs": [],
   "source": [
    "# Defining the path to all the directories\n",
    "\n",
    "# test directories path\n",
    "test_benign_dir=r'C:\\Users\\joshc\\Documents\\BrainStation\\Capstone Project\\Mammography Data\\The Complete Mini-DDSM\\Image_Directory\\Test\\Benign'\n",
    "test_cancer_dir=r'C:\\Users\\joshc\\Documents\\BrainStation\\Capstone Project\\Mammography Data\\The Complete Mini-DDSM\\Image_Directory\\Test\\Cancer'\n",
    "\n",
    "# train directories path\n",
    "train_benign_dir=r'C:\\Users\\joshc\\Documents\\BrainStation\\Capstone Project\\Mammography Data\\The Complete Mini-DDSM\\Image_Directory\\Train\\Benign'\n",
    "train_cancer_dir=r'C:\\Users\\joshc\\Documents\\BrainStation\\Capstone Project\\Mammography Data\\The Complete Mini-DDSM\\Image_Directory\\Train\\Cancer'\n",
    "\n",
    "# validation directories path\n",
    "validation_benign_dir=r'C:\\Users\\joshc\\Documents\\BrainStation\\Capstone Project\\Mammography Data\\The Complete Mini-DDSM\\Image_Directory\\Validation\\Benign'\n",
    "validation_cancer_dir=r'C:\\Users\\joshc\\Documents\\BrainStation\\Capstone Project\\Mammography Data\\The Complete Mini-DDSM\\Image_Directory\\Validation\\Cancer'"
   ]
  },
  {
   "cell_type": "markdown",
   "id": "0e39c1d1-2ab3-43a7-b8e4-add86c749545",
   "metadata": {},
   "source": [
    "**Train Image Movement**"
   ]
  },
  {
   "cell_type": "code",
   "execution_count": null,
   "id": "c42e0c9c-2407-4f6b-a2c1-fe423f68eb64",
   "metadata": {},
   "outputs": [],
   "source": [
    "for i in range(len(X_train)):\n",
    "    \n",
    "    original_path=X_train['Image_Path'].iloc[i]\n",
    "    \n",
    "    if y_train.iloc[i]==0:\n",
    "        final_path=os.path.join(train_benign_dir,X_train['File_Names'].iloc[i])\n",
    "    \n",
    "    elif y_train.iloc[i]==1:\n",
    "        final_path=os.path.join(train_cancer_dir,X_train['File_Names'].iloc[i])\n",
    "    \n",
    "    os.rename(original_path,final_path)"
   ]
  },
  {
   "cell_type": "markdown",
   "id": "fe824efa-8cb1-402e-8500-8f1c4bb2627d",
   "metadata": {},
   "source": [
    "**Test Image Movement**"
   ]
  },
  {
   "cell_type": "code",
   "execution_count": null,
   "id": "0ef9ab27-02c5-49ea-932a-033f6e8d17b2",
   "metadata": {},
   "outputs": [],
   "source": [
    "for i in range(len(X_test)):\n",
    "    \n",
    "    original_path=X_test['Image_Path'].iloc[i]\n",
    "    \n",
    "    if y_test.iloc[i]==0:\n",
    "        final_path=os.path.join(test_benign_dir,X_test['File_Names'].iloc[i])\n",
    "    \n",
    "    elif y_test.iloc[i]==1:\n",
    "        final_path=os.path.join(test_cancer_dir,X_test['File_Names'].iloc[i])\n",
    "    \n",
    "    os.rename(original_path,final_path)"
   ]
  },
  {
   "cell_type": "markdown",
   "id": "4e2efed8-0d0a-4e85-892c-9a62b7900860",
   "metadata": {},
   "source": [
    "**Validation Image Movement**"
   ]
  },
  {
   "cell_type": "code",
   "execution_count": null,
   "id": "b2a3daa1-20e6-4c45-b88d-662e61ccae52",
   "metadata": {},
   "outputs": [],
   "source": [
    "for i in range(len(X_validation)):\n",
    "    \n",
    "    original_path=X_validation['Image_Path'].iloc[i]\n",
    "    \n",
    "    if y_validation.iloc[i]==0:\n",
    "        final_path=os.path.join(validation_benign_dir,X_validation['File_Names'].iloc[i])\n",
    "    \n",
    "    elif y_validation.iloc[i]==1:\n",
    "        final_path=os.path.join(validation_cancer_dir,X_validation['File_Names'].iloc[i])\n",
    "    \n",
    "    os.rename(original_path,final_path)"
   ]
  },
  {
   "cell_type": "markdown",
   "id": "2c9ca1f4-cf6f-48e9-825c-722366480b3e",
   "metadata": {},
   "source": [
    "## **Age & Density for Classification**"
   ]
  },
  {
   "cell_type": "code",
   "execution_count": 29,
   "id": "bfc8262d-5d31-4191-b447-b3b9d6587340",
   "metadata": {},
   "outputs": [
    {
     "data": {
      "text/html": [
       "<div>\n",
       "<style scoped>\n",
       "    .dataframe tbody tr th:only-of-type {\n",
       "        vertical-align: middle;\n",
       "    }\n",
       "\n",
       "    .dataframe tbody tr th {\n",
       "        vertical-align: top;\n",
       "    }\n",
       "\n",
       "    .dataframe thead th {\n",
       "        text-align: right;\n",
       "    }\n",
       "</style>\n",
       "<table border=\"1\" class=\"dataframe\">\n",
       "  <thead>\n",
       "    <tr style=\"text-align: right;\">\n",
       "      <th></th>\n",
       "      <th>fullPath</th>\n",
       "      <th>fileName</th>\n",
       "      <th>View</th>\n",
       "      <th>Side</th>\n",
       "      <th>Status</th>\n",
       "      <th>Age</th>\n",
       "      <th>Density</th>\n",
       "      <th>Tumour_Contour</th>\n",
       "      <th>Tumour_Contour2</th>\n",
       "      <th>Tumour_Contour3</th>\n",
       "      <th>Tumour_Contour4</th>\n",
       "      <th>Tumour_Contour5</th>\n",
       "      <th>Tumour_Contour6</th>\n",
       "    </tr>\n",
       "  </thead>\n",
       "  <tbody>\n",
       "    <tr>\n",
       "      <th>0</th>\n",
       "      <td>Benign\\0029\\C_0029_1.LEFT_CC.png</td>\n",
       "      <td>C_0029_1.LEFT_CC.png</td>\n",
       "      <td>CC</td>\n",
       "      <td>LEFT</td>\n",
       "      <td>Benign</td>\n",
       "      <td>66.0</td>\n",
       "      <td>3</td>\n",
       "      <td>Benign\\0029\\C_0029_1.LEFT_CC_Mask.png</td>\n",
       "      <td>-</td>\n",
       "      <td>NaN</td>\n",
       "      <td>NaN</td>\n",
       "      <td>NaN</td>\n",
       "      <td>NaN</td>\n",
       "    </tr>\n",
       "    <tr>\n",
       "      <th>1</th>\n",
       "      <td>Benign\\0029\\C_0029_1.LEFT_MLO.png</td>\n",
       "      <td>C_0029_1.LEFT_MLO.png</td>\n",
       "      <td>MLO</td>\n",
       "      <td>LEFT</td>\n",
       "      <td>Benign</td>\n",
       "      <td>66.0</td>\n",
       "      <td>3</td>\n",
       "      <td>Benign\\0029\\C_0029_1.LEFT_MLO_Mask.png</td>\n",
       "      <td>-</td>\n",
       "      <td>NaN</td>\n",
       "      <td>NaN</td>\n",
       "      <td>NaN</td>\n",
       "      <td>NaN</td>\n",
       "    </tr>\n",
       "    <tr>\n",
       "      <th>2</th>\n",
       "      <td>Benign\\0029\\C_0029_1.RIGHT_CC.png</td>\n",
       "      <td>C_0029_1.RIGHT_CC.png</td>\n",
       "      <td>CC</td>\n",
       "      <td>RIGHT</td>\n",
       "      <td>Benign</td>\n",
       "      <td>66.0</td>\n",
       "      <td>3</td>\n",
       "      <td>-</td>\n",
       "      <td>-</td>\n",
       "      <td>NaN</td>\n",
       "      <td>NaN</td>\n",
       "      <td>NaN</td>\n",
       "      <td>NaN</td>\n",
       "    </tr>\n",
       "    <tr>\n",
       "      <th>3</th>\n",
       "      <td>Benign\\0029\\C_0029_1.RIGHT_MLO.png</td>\n",
       "      <td>C_0029_1.RIGHT_MLO.png</td>\n",
       "      <td>MLO</td>\n",
       "      <td>RIGHT</td>\n",
       "      <td>Benign</td>\n",
       "      <td>66.0</td>\n",
       "      <td>3</td>\n",
       "      <td>-</td>\n",
       "      <td>-</td>\n",
       "      <td>NaN</td>\n",
       "      <td>NaN</td>\n",
       "      <td>NaN</td>\n",
       "      <td>NaN</td>\n",
       "    </tr>\n",
       "    <tr>\n",
       "      <th>4</th>\n",
       "      <td>Benign\\0033\\C_0033_1.LEFT_CC.png</td>\n",
       "      <td>C_0033_1.LEFT_CC.png</td>\n",
       "      <td>CC</td>\n",
       "      <td>LEFT</td>\n",
       "      <td>Benign</td>\n",
       "      <td>60.0</td>\n",
       "      <td>3</td>\n",
       "      <td>-</td>\n",
       "      <td>-</td>\n",
       "      <td>NaN</td>\n",
       "      <td>NaN</td>\n",
       "      <td>NaN</td>\n",
       "      <td>NaN</td>\n",
       "    </tr>\n",
       "  </tbody>\n",
       "</table>\n",
       "</div>"
      ],
      "text/plain": [
       "                             fullPath                fileName View   Side  \\\n",
       "0    Benign\\0029\\C_0029_1.LEFT_CC.png    C_0029_1.LEFT_CC.png   CC   LEFT   \n",
       "1   Benign\\0029\\C_0029_1.LEFT_MLO.png   C_0029_1.LEFT_MLO.png  MLO   LEFT   \n",
       "2   Benign\\0029\\C_0029_1.RIGHT_CC.png   C_0029_1.RIGHT_CC.png   CC  RIGHT   \n",
       "3  Benign\\0029\\C_0029_1.RIGHT_MLO.png  C_0029_1.RIGHT_MLO.png  MLO  RIGHT   \n",
       "4    Benign\\0033\\C_0033_1.LEFT_CC.png    C_0033_1.LEFT_CC.png   CC   LEFT   \n",
       "\n",
       "   Status   Age  Density                          Tumour_Contour  \\\n",
       "0  Benign  66.0        3   Benign\\0029\\C_0029_1.LEFT_CC_Mask.png   \n",
       "1  Benign  66.0        3  Benign\\0029\\C_0029_1.LEFT_MLO_Mask.png   \n",
       "2  Benign  66.0        3                                       -   \n",
       "3  Benign  66.0        3                                       -   \n",
       "4  Benign  60.0        3                                       -   \n",
       "\n",
       "  Tumour_Contour2 Tumour_Contour3 Tumour_Contour4 Tumour_Contour5  \\\n",
       "0               -             NaN             NaN             NaN   \n",
       "1               -             NaN             NaN             NaN   \n",
       "2               -             NaN             NaN             NaN   \n",
       "3               -             NaN             NaN             NaN   \n",
       "4               -             NaN             NaN             NaN   \n",
       "\n",
       "  Tumour_Contour6  \n",
       "0             NaN  \n",
       "1             NaN  \n",
       "2             NaN  \n",
       "3             NaN  \n",
       "4             NaN  "
      ]
     },
     "execution_count": 29,
     "metadata": {},
     "output_type": "execute_result"
    }
   ],
   "source": [
    "mini_ddsm_df=pd.read_csv(r'C:\\Users\\joshc\\Documents\\BrainStation\\Capstone Project\\Mammography Data\\The Complete Mini-DDSM\\Data-MoreThanTwoMasks\\Data-MoreThanTwoMasks.csv')\n",
    "\n",
    "#imputing the 12 missing ages with the median age\n",
    "mini_ddsm_df.Age.fillna(mini_ddsm_df.Age.median(),inplace=True)\n",
    "mini_ddsm_df.isnull().sum()\n",
    "\n",
    "#removing all normal status images due to white blotches on images\n",
    "mini_ddsm_removed_normals=mini_ddsm_df[:5400].copy()\n",
    "mini_ddsm_removed_normals.head()"
   ]
  },
  {
   "cell_type": "code",
   "execution_count": 30,
   "id": "e02186be-bbc1-43b2-a5a9-88a2eed4b560",
   "metadata": {},
   "outputs": [
    {
     "data": {
      "text/html": [
       "<div>\n",
       "<style scoped>\n",
       "    .dataframe tbody tr th:only-of-type {\n",
       "        vertical-align: middle;\n",
       "    }\n",
       "\n",
       "    .dataframe tbody tr th {\n",
       "        vertical-align: top;\n",
       "    }\n",
       "\n",
       "    .dataframe thead th {\n",
       "        text-align: right;\n",
       "    }\n",
       "</style>\n",
       "<table border=\"1\" class=\"dataframe\">\n",
       "  <thead>\n",
       "    <tr style=\"text-align: right;\">\n",
       "      <th></th>\n",
       "      <th>Path</th>\n",
       "      <th>Age</th>\n",
       "      <th>Density</th>\n",
       "      <th>Status</th>\n",
       "      <th>fileName</th>\n",
       "      <th>Classification</th>\n",
       "    </tr>\n",
       "  </thead>\n",
       "  <tbody>\n",
       "    <tr>\n",
       "      <th>0</th>\n",
       "      <td>C:\\Users\\joshc\\Documents\\BrainStation\\Capstone...</td>\n",
       "      <td>66.0</td>\n",
       "      <td>3</td>\n",
       "      <td>Benign</td>\n",
       "      <td>C_0029_1.LEFT_CC.png</td>\n",
       "      <td>0</td>\n",
       "    </tr>\n",
       "    <tr>\n",
       "      <th>1</th>\n",
       "      <td>C:\\Users\\joshc\\Documents\\BrainStation\\Capstone...</td>\n",
       "      <td>66.0</td>\n",
       "      <td>3</td>\n",
       "      <td>Benign</td>\n",
       "      <td>C_0029_1.LEFT_MLO.png</td>\n",
       "      <td>0</td>\n",
       "    </tr>\n",
       "    <tr>\n",
       "      <th>2</th>\n",
       "      <td>C:\\Users\\joshc\\Documents\\BrainStation\\Capstone...</td>\n",
       "      <td>66.0</td>\n",
       "      <td>3</td>\n",
       "      <td>Benign</td>\n",
       "      <td>C_0029_1.RIGHT_CC.png</td>\n",
       "      <td>0</td>\n",
       "    </tr>\n",
       "    <tr>\n",
       "      <th>3</th>\n",
       "      <td>C:\\Users\\joshc\\Documents\\BrainStation\\Capstone...</td>\n",
       "      <td>66.0</td>\n",
       "      <td>3</td>\n",
       "      <td>Benign</td>\n",
       "      <td>C_0029_1.RIGHT_MLO.png</td>\n",
       "      <td>0</td>\n",
       "    </tr>\n",
       "    <tr>\n",
       "      <th>4</th>\n",
       "      <td>C:\\Users\\joshc\\Documents\\BrainStation\\Capstone...</td>\n",
       "      <td>60.0</td>\n",
       "      <td>3</td>\n",
       "      <td>Benign</td>\n",
       "      <td>C_0033_1.LEFT_CC.png</td>\n",
       "      <td>0</td>\n",
       "    </tr>\n",
       "  </tbody>\n",
       "</table>\n",
       "</div>"
      ],
      "text/plain": [
       "                                                Path   Age  Density  Status  \\\n",
       "0  C:\\Users\\joshc\\Documents\\BrainStation\\Capstone...  66.0        3  Benign   \n",
       "1  C:\\Users\\joshc\\Documents\\BrainStation\\Capstone...  66.0        3  Benign   \n",
       "2  C:\\Users\\joshc\\Documents\\BrainStation\\Capstone...  66.0        3  Benign   \n",
       "3  C:\\Users\\joshc\\Documents\\BrainStation\\Capstone...  66.0        3  Benign   \n",
       "4  C:\\Users\\joshc\\Documents\\BrainStation\\Capstone...  60.0        3  Benign   \n",
       "\n",
       "                 fileName  Classification  \n",
       "0    C_0029_1.LEFT_CC.png               0  \n",
       "1   C_0029_1.LEFT_MLO.png               0  \n",
       "2   C_0029_1.RIGHT_CC.png               0  \n",
       "3  C_0029_1.RIGHT_MLO.png               0  \n",
       "4    C_0033_1.LEFT_CC.png               0  "
      ]
     },
     "execution_count": 30,
     "metadata": {},
     "output_type": "execute_result"
    }
   ],
   "source": [
    "# paths to images\n",
    "mini_ddsm_removed_normals['Path']=benign_paths+malignant_paths\n",
    "\n",
    "# redefining cancer as string to integer\n",
    "mini_ddsm_removed_normals['Classification']=np.where(mini_ddsm_removed_normals.Status=='Cancer',1,0)\n",
    "\n",
    "mini_ddsm_removed_normals[['Path','Age','Density','Status','fileName','Classification']].head()"
   ]
  },
  {
   "cell_type": "code",
   "execution_count": 92,
   "id": "e0dd990a-4aca-4d79-ac19-ddb9157785ac",
   "metadata": {},
   "outputs": [
    {
     "name": "stdout",
     "output_type": "stream",
     "text": [
      "Nulls in mini-DDSM DataFrame\n"
     ]
    },
    {
     "data": {
      "text/plain": [
       "fullPath              0\n",
       "fileName              0\n",
       "View                  0\n",
       "Side                  0\n",
       "Status                0\n",
       "Age                   0\n",
       "Density               0\n",
       "Tumour_Contour        0\n",
       "Tumour_Contour2       0\n",
       "Tumour_Contour3    5350\n",
       "Tumour_Contour4    5392\n",
       "Tumour_Contour5    5398\n",
       "Tumour_Contour6    5398\n",
       "Path                  0\n",
       "Classification        0\n",
       "dtype: int64"
      ]
     },
     "execution_count": 92,
     "metadata": {},
     "output_type": "execute_result"
    }
   ],
   "source": [
    "print(\"Nulls in mini-DDSM DataFrame\")\n",
    "mini_ddsm_removed_normals.isnull().sum()"
   ]
  },
  {
   "cell_type": "code",
   "execution_count": 87,
   "id": "44ce2da9-a5b5-4f76-966f-b3fd9ea99493",
   "metadata": {},
   "outputs": [],
   "source": [
    "def PlotBoundaries(model, X, Y, figsize=(10, 8)):\n",
    "    '''\n",
    "    Helper function that plots the decision boundaries of a model and data (X,Y)\n",
    "    code modified from: https://scikit-learn.org/stable/auto_examples/neighbors/plot_classification.html\n",
    "    '''\n",
    "\n",
    "    x_min, x_max = X[:, 0].min() - 1, X[:, 0].max() + 1\n",
    "    y_min, y_max = X[:, 1].min() - 1, X[:, 1].max() + 1\n",
    "    xx, yy = np.meshgrid(np.arange(x_min, x_max, 0.01),\n",
    "                         np.arange(y_min, y_max, 0.01))\n",
    "\n",
    "    Z = model.predict(np.c_[xx.ravel(), yy.ravel()])\n",
    "    Z = Z.reshape(xx.shape)\n",
    "\n",
    "    plt.figure(figsize=figsize)\n",
    "    plt.contourf(xx, yy, Z, alpha=0.4)\n",
    "\n",
    "    # Plot\n",
    "    plt.scatter(X[:, 0], X[:, 1], c=Y, s=20, edgecolor='k')\n",
    "    plt.xlabel('age')\n",
    "    plt.ylabel('density')\n",
    "    plt.title('Plot Boundaries of Age & Density to Classify Cancer')\n",
    "    plt.show()"
   ]
  },
  {
   "cell_type": "code",
   "execution_count": 33,
   "id": "954bb994-c9c3-4998-aaac-f80a997bdef4",
   "metadata": {},
   "outputs": [],
   "source": [
    "from sklearn.model_selection import train_test_split\n",
    "\n",
    "X=mini_ddsm_removed_normals[['Age','Density']]\n",
    "y=mini_ddsm_removed_normals['Classification']\n",
    "\n",
    "#test train split for logistic regression to determine impact of age & density on classification\n",
    "X_train, X_test, y_train, y_test = train_test_split(X, y, test_size=0.33, random_state=42)"
   ]
  },
  {
   "cell_type": "code",
   "execution_count": 51,
   "id": "46788a75-c42c-41b2-a7e2-bbdd268ecf55",
   "metadata": {},
   "outputs": [
    {
     "data": {
      "text/html": [
       "<div>\n",
       "<style scoped>\n",
       "    .dataframe tbody tr th:only-of-type {\n",
       "        vertical-align: middle;\n",
       "    }\n",
       "\n",
       "    .dataframe tbody tr th {\n",
       "        vertical-align: top;\n",
       "    }\n",
       "\n",
       "    .dataframe thead th {\n",
       "        text-align: right;\n",
       "    }\n",
       "</style>\n",
       "<table border=\"1\" class=\"dataframe\">\n",
       "  <thead>\n",
       "    <tr style=\"text-align: right;\">\n",
       "      <th></th>\n",
       "      <th>Age</th>\n",
       "      <th>Density</th>\n",
       "    </tr>\n",
       "  </thead>\n",
       "  <tbody>\n",
       "    <tr>\n",
       "      <th>0</th>\n",
       "      <td>66.0</td>\n",
       "      <td>3</td>\n",
       "    </tr>\n",
       "    <tr>\n",
       "      <th>1</th>\n",
       "      <td>66.0</td>\n",
       "      <td>3</td>\n",
       "    </tr>\n",
       "    <tr>\n",
       "      <th>2</th>\n",
       "      <td>66.0</td>\n",
       "      <td>3</td>\n",
       "    </tr>\n",
       "    <tr>\n",
       "      <th>3</th>\n",
       "      <td>66.0</td>\n",
       "      <td>3</td>\n",
       "    </tr>\n",
       "    <tr>\n",
       "      <th>4</th>\n",
       "      <td>60.0</td>\n",
       "      <td>3</td>\n",
       "    </tr>\n",
       "    <tr>\n",
       "      <th>...</th>\n",
       "      <td>...</td>\n",
       "      <td>...</td>\n",
       "    </tr>\n",
       "    <tr>\n",
       "      <th>5395</th>\n",
       "      <td>64.0</td>\n",
       "      <td>3</td>\n",
       "    </tr>\n",
       "    <tr>\n",
       "      <th>5396</th>\n",
       "      <td>65.0</td>\n",
       "      <td>3</td>\n",
       "    </tr>\n",
       "    <tr>\n",
       "      <th>5397</th>\n",
       "      <td>65.0</td>\n",
       "      <td>3</td>\n",
       "    </tr>\n",
       "    <tr>\n",
       "      <th>5398</th>\n",
       "      <td>65.0</td>\n",
       "      <td>3</td>\n",
       "    </tr>\n",
       "    <tr>\n",
       "      <th>5399</th>\n",
       "      <td>65.0</td>\n",
       "      <td>3</td>\n",
       "    </tr>\n",
       "  </tbody>\n",
       "</table>\n",
       "<p>5400 rows × 2 columns</p>\n",
       "</div>"
      ],
      "text/plain": [
       "       Age  Density\n",
       "0     66.0        3\n",
       "1     66.0        3\n",
       "2     66.0        3\n",
       "3     66.0        3\n",
       "4     60.0        3\n",
       "...    ...      ...\n",
       "5395  64.0        3\n",
       "5396  65.0        3\n",
       "5397  65.0        3\n",
       "5398  65.0        3\n",
       "5399  65.0        3\n",
       "\n",
       "[5400 rows x 2 columns]"
      ]
     },
     "execution_count": 51,
     "metadata": {},
     "output_type": "execute_result"
    }
   ],
   "source": [
    "# Age & Density DataFrame\n",
    "X"
   ]
  },
  {
   "cell_type": "code",
   "execution_count": 91,
   "id": "5c3a6982-72e8-412c-b370-f02b040007f3",
   "metadata": {},
   "outputs": [
    {
     "data": {
      "text/plain": [
       "1    0.502963\n",
       "0    0.497037\n",
       "Name: Classification, dtype: float64"
      ]
     },
     "execution_count": 91,
     "metadata": {},
     "output_type": "execute_result"
    }
   ],
   "source": [
    "#Proportion of Cancer in Dataset\n",
    "y.value_counts(normalize=True)"
   ]
  },
  {
   "cell_type": "code",
   "execution_count": 90,
   "id": "9ee0e190-5cf5-42b5-8c35-d0dc466796bb",
   "metadata": {},
   "outputs": [
    {
     "name": "stdout",
     "output_type": "stream",
     "text": [
      "Training Accuracy: 65.1741%\n",
      "Test Accuracy: 65.2076%\n"
     ]
    }
   ],
   "source": [
    "from sklearn.linear_model import LogisticRegression\n",
    "\n",
    "#instantiate model\n",
    "log_model=LogisticRegression()\n",
    "\n",
    "#fit training data\n",
    "log_model.fit(X_train,y_train)\n",
    "\n",
    "print(f'Training Accuracy: {round(neigh.score(X_train,y_train)*100,4)}%')\n",
    "print(f'Test Accuracy: {round(neigh.score(X_test,y_test)*100,4)}%')"
   ]
  },
  {
   "cell_type": "code",
   "execution_count": 88,
   "id": "dc774440-cb97-495f-bba3-e7643f781a81",
   "metadata": {
    "tags": []
   },
   "outputs": [
    {
     "name": "stderr",
     "output_type": "stream",
     "text": [
      "C:\\Users\\joshc\\anaconda3\\lib\\site-packages\\sklearn\\base.py:450: UserWarning: X does not have valid feature names, but LogisticRegression was fitted with feature names\n",
      "  warnings.warn(\n"
     ]
    },
    {
     "data": {
      "image/png": "[encoded data removed]",
      "text/plain": [
       "<Figure size 720x576 with 1 Axes>"
      ]
     },
     "metadata": {
      "needs_background": "light"
     },
     "output_type": "display_data"
    }
   ],
   "source": [
    "#Plotting Age & Density vs Cancer Classification\n",
    "PlotBoundaries(log_model,np.asarray(X_test),np.asarray(y_test))"
   ]
  },
  {
   "cell_type": "markdown",
   "id": "c8b251fd-7497-466e-9d0b-06f59c66273e",
   "metadata": {},
   "source": [
    "The PlotBoundaries function using a Logistic Regression Classifier shows that age is a much more important feature for classification than density is.  We will want to use age as a feature alongside our convolutional neural network model moving forward."
   ]
  }
 ],
 "metadata": {
  "kernelspec": {
   "display_name": "Python 3 (ipykernel)",
   "language": "python",
   "name": "python3"
  },
  "language_info": {
   "codemirror_mode": {
    "name": "ipython",
    "version": 3
   },
   "file_extension": ".py",
   "mimetype": "text/x-python",
   "name": "python",
   "nbconvert_exporter": "python",
   "pygments_lexer": "ipython3",
   "version": "3.9.12"
  },
  "toc-autonumbering": true,
  "toc-showmarkdowntxt": false
 },
 "nbformat": 4,
 "nbformat_minor": 5
}
